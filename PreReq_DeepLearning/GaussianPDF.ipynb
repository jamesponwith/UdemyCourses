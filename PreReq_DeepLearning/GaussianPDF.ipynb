{
 "cells": [
  {
   "cell_type": "code",
   "execution_count": 1,
   "metadata": {
    "collapsed": true
   },
   "outputs": [],
   "source": [
    "from scipy.stats import norm\n"
   ]
  },
  {
   "cell_type": "code",
   "execution_count": 2,
   "metadata": {},
   "outputs": [
    {
     "data": {
      "text/plain": [
       "0.3989422804014327"
      ]
     },
     "execution_count": 2,
     "metadata": {},
     "output_type": "execute_result"
    }
   ],
   "source": [
    "norm.pdf(0)"
   ]
  },
  {
   "cell_type": "code",
   "execution_count": 3,
   "metadata": {},
   "outputs": [
    {
     "data": {
      "text/plain": [
       "0.035206532676429952"
      ]
     },
     "execution_count": 3,
     "metadata": {},
     "output_type": "execute_result"
    }
   ],
   "source": [
    "norm.pdf(0, loc = 5, scale = 10)"
   ]
  },
  {
   "cell_type": "code",
   "execution_count": 5,
   "metadata": {
    "collapsed": true
   },
   "outputs": [],
   "source": [
    "# Scale refers to standard deviation"
   ]
  },
  {
   "cell_type": "code",
   "execution_count": 6,
   "metadata": {
    "collapsed": true
   },
   "outputs": [],
   "source": [
    "import numpy as np\n",
    "r = np.random.random(10)"
   ]
  },
  {
   "cell_type": "code",
   "execution_count": 7,
   "metadata": {},
   "outputs": [
    {
     "data": {
      "text/plain": [
       "array([ 0.38013086,  0.39894116,  0.37813718,  0.39890895,  0.26466628,\n",
       "        0.34173944,  0.36272967,  0.38112916,  0.30243101,  0.33890241])"
      ]
     },
     "execution_count": 7,
     "metadata": {},
     "output_type": "execute_result"
    }
   ],
   "source": [
    "norm.pdf(r)"
   ]
  },
  {
   "cell_type": "code",
   "execution_count": 8,
   "metadata": {},
   "outputs": [
    {
     "data": {
      "text/plain": [
       "array([-0.96723973, -0.91894135, -0.97249825, -0.91902209, -1.32928555,\n",
       "       -1.0737067 , -1.01409742, -0.96461695, -1.19590209, -1.0820431 ])"
      ]
     },
     "execution_count": 8,
     "metadata": {},
     "output_type": "execute_result"
    }
   ],
   "source": [
    "norm.logpdf(r)"
   ]
  },
  {
   "cell_type": "code",
   "execution_count": 9,
   "metadata": {},
   "outputs": [
    {
     "ename": "AttributeError",
     "evalue": "'norm_gen' object has no attribute 'cdp'",
     "output_type": "error",
     "traceback": [
      "\u001b[0;31m---------------------------------------------------------------------------\u001b[0m",
      "\u001b[0;31mAttributeError\u001b[0m                            Traceback (most recent call last)",
      "\u001b[0;32m<ipython-input-9-78fc35616788>\u001b[0m in \u001b[0;36m<module>\u001b[0;34m()\u001b[0m\n\u001b[0;32m----> 1\u001b[0;31m \u001b[0mnorm\u001b[0m\u001b[0;34m.\u001b[0m\u001b[0mcdp\u001b[0m\u001b[0;34m(\u001b[0m\u001b[0mr\u001b[0m\u001b[0;34m)\u001b[0m\u001b[0;34m\u001b[0m\u001b[0m\n\u001b[0m",
      "\u001b[0;31mAttributeError\u001b[0m: 'norm_gen' object has no attribute 'cdp'"
     ]
    }
   ],
   "source": [
    "norm.cdp(r)"
   ]
  },
  {
   "cell_type": "code",
   "execution_count": 10,
   "metadata": {},
   "outputs": [
    {
     "data": {
      "text/plain": [
       "array([ 0.62202718,  0.50094748,  0.62827612,  0.50515716,  0.81751134,\n",
       "        0.71101758,  0.66867387,  0.61877037,  0.77164125,  0.71605007])"
      ]
     },
     "execution_count": 10,
     "metadata": {},
     "output_type": "execute_result"
    }
   ],
   "source": [
    "norm.cdf(r)"
   ]
  },
  {
   "cell_type": "code",
   "execution_count": 11,
   "metadata": {},
   "outputs": [
    {
     "data": {
      "text/plain": [
       "array([-0.47477149, -0.69125402, -0.46477553, -0.6828857 , -0.20149051,\n",
       "       -0.34105813, -0.40245883, -0.48002104, -0.25923554, -0.33400519])"
      ]
     },
     "execution_count": 11,
     "metadata": {},
     "output_type": "execute_result"
    }
   ],
   "source": [
    "norm.logcdf(r)"
   ]
  },
  {
   "cell_type": "code",
   "execution_count": 4,
   "metadata": {},
   "outputs": [],
   "source": [
    "r = np.random.randn(10000)"
   ]
  },
  {
   "cell_type": "code",
   "execution_count": 2,
   "metadata": {
    "collapsed": true
   },
   "outputs": [],
   "source": [
    "import numpy as np"
   ]
  },
  {
   "cell_type": "code",
   "execution_count": 7,
   "metadata": {},
   "outputs": [
    {
     "data": {
      "text/plain": [
       "(array([   2.,    1.,    1.,    1.,    0.,    0.,    1.,    6.,    2.,\n",
       "           2.,    4.,    6.,    3.,   13.,   13.,   12.,   24.,   18.,\n",
       "          21.,   22.,   31.,   31.,   33.,   52.,   54.,   61.,   73.,\n",
       "          96.,   92.,  104.,  115.,  130.,  144.,  154.,  166.,  184.,\n",
       "         181.,  194.,  193.,  231.,  244.,  236.,  289.,  277.,  311.,\n",
       "         318.,  328.,  315.,  321.,  330.,  307.,  299.,  274.,  269.,\n",
       "         260.,  286.,  260.,  251.,  245.,  203.,  210.,  185.,  158.,\n",
       "         131.,  145.,  158.,  134.,  102.,  104.,   71.,   82.,   67.,\n",
       "          74.,   49.,   36.,   36.,   27.,   22.,   18.,   18.,   14.,\n",
       "          12.,   10.,    8.,    6.,    3.,    5.,    2.,    5.,    2.,\n",
       "           2.,    1.,    2.,    2.,    1.,    0.,    2.,    1.,    0.,    1.]),\n",
       " array([-3.71142622, -3.63474541, -3.5580646 , -3.48138379, -3.40470298,\n",
       "        -3.32802217, -3.25134136, -3.17466055, -3.09797974, -3.02129893,\n",
       "        -2.94461812, -2.86793731, -2.79125651, -2.7145757 , -2.63789489,\n",
       "        -2.56121408, -2.48453327, -2.40785246, -2.33117165, -2.25449084,\n",
       "        -2.17781003, -2.10112922, -2.02444841, -1.9477676 , -1.87108679,\n",
       "        -1.79440598, -1.71772517, -1.64104437, -1.56436356, -1.48768275,\n",
       "        -1.41100194, -1.33432113, -1.25764032, -1.18095951, -1.1042787 ,\n",
       "        -1.02759789, -0.95091708, -0.87423627, -0.79755546, -0.72087465,\n",
       "        -0.64419384, -0.56751303, -0.49083222, -0.41415142, -0.33747061,\n",
       "        -0.2607898 , -0.18410899, -0.10742818, -0.03074737,  0.04593344,\n",
       "         0.12261425,  0.19929506,  0.27597587,  0.35265668,  0.42933749,\n",
       "         0.5060183 ,  0.58269911,  0.65937992,  0.73606072,  0.81274153,\n",
       "         0.88942234,  0.96610315,  1.04278396,  1.11946477,  1.19614558,\n",
       "         1.27282639,  1.3495072 ,  1.42618801,  1.50286882,  1.57954963,\n",
       "         1.65623044,  1.73291125,  1.80959206,  1.88627286,  1.96295367,\n",
       "         2.03963448,  2.11631529,  2.1929961 ,  2.26967691,  2.34635772,\n",
       "         2.42303853,  2.49971934,  2.57640015,  2.65308096,  2.72976177,\n",
       "         2.80644258,  2.88312339,  2.9598042 ,  3.036485  ,  3.11316581,\n",
       "         3.18984662,  3.26652743,  3.34320824,  3.41988905,  3.49656986,\n",
       "         3.57325067,  3.64993148,  3.72661229,  3.8032931 ,  3.87997391,\n",
       "         3.95665472]),\n",
       " <a list of 100 Patch objects>)"
      ]
     },
     "execution_count": 7,
     "metadata": {},
     "output_type": "execute_result"
    }
   ],
   "source": [
    "plt.hist(r, bins = 100)"
   ]
  },
  {
   "cell_type": "code",
   "execution_count": 6,
   "metadata": {
    "collapsed": true
   },
   "outputs": [],
   "source": [
    "import matplotlib.pyplot as plt"
   ]
  },
  {
   "cell_type": "code",
   "execution_count": 8,
   "metadata": {},
   "outputs": [
    {
     "data": {
      "image/png": "[encoded data removed]",
      "text/plain": [
       "<matplotlib.figure.Figure at 0x1083455c0>"
      ]
     },
     "metadata": {},
     "output_type": "display_data"
    }
   ],
   "source": [
    "plt.show()"
   ]
  },
  {
   "cell_type": "code",
   "execution_count": 9,
   "metadata": {
    "collapsed": true
   },
   "outputs": [],
   "source": [
    "# Sample from arbritrary mean and standard deviation"
   ]
  },
  {
   "cell_type": "code",
   "execution_count": 10,
   "metadata": {
    "collapsed": true
   },
   "outputs": [],
   "source": [
    "# Scale it and add the mean"
   ]
  },
  {
   "cell_type": "code",
   "execution_count": 11,
   "metadata": {
    "collapsed": true
   },
   "outputs": [],
   "source": [
    "r = 10 * np.random.randn(10000)"
   ]
  },
  {
   "cell_type": "code",
   "execution_count": 12,
   "metadata": {},
   "outputs": [
    {
     "data": {
      "text/plain": [
       "(array([   1.,    0.,    0.,    0.,    0.,    1.,    1.,    1.,    2.,\n",
       "           1.,    1.,    2.,    4.,    2.,    3.,   12.,    6.,    9.,\n",
       "          11.,   12.,   19.,   23.,   24.,   26.,   38.,   52.,   54.,\n",
       "          50.,   65.,   79.,   70.,   72.,   80.,  137.,  138.,  135.,\n",
       "         140.,  163.,  164.,  193.,  179.,  226.,  231.,  224.,  251.,\n",
       "         255.,  261.,  302.,  276.,  279.,  297.,  289.,  289.,  296.,\n",
       "         329.,  307.,  295.,  282.,  275.,  269.,  264.,  255.,  219.,\n",
       "         191.,  190.,  182.,  160.,  150.,  152.,  132.,  121.,  114.,\n",
       "          91.,   79.,   75.,   65.,   55.,   40.,   43.,   38.,   23.,\n",
       "          27.,   20.,   27.,   24.,   10.,    7.,   11.,    6.,    3.,\n",
       "           4.,    2.,    1.,    2.,    5.,    4.,    0.,    1.,    1.,    3.]),\n",
       " array([-39.73781939, -38.97864298, -38.21946657, -37.46029017,\n",
       "        -36.70111376, -35.94193735, -35.18276095, -34.42358454,\n",
       "        -33.66440814, -32.90523173, -32.14605532, -31.38687892,\n",
       "        -30.62770251, -29.8685261 , -29.1093497 , -28.35017329,\n",
       "        -27.59099688, -26.83182048, -26.07264407, -25.31346766,\n",
       "        -24.55429126, -23.79511485, -23.03593844, -22.27676204,\n",
       "        -21.51758563, -20.75840923, -19.99923282, -19.24005641,\n",
       "        -18.48088001, -17.7217036 , -16.96252719, -16.20335079,\n",
       "        -15.44417438, -14.68499797, -13.92582157, -13.16664516,\n",
       "        -12.40746875, -11.64829235, -10.88911594, -10.12993953,\n",
       "         -9.37076313,  -8.61158672,  -7.85241032,  -7.09323391,\n",
       "         -6.3340575 ,  -5.5748811 ,  -4.81570469,  -4.05652828,\n",
       "         -3.29735188,  -2.53817547,  -1.77899906,  -1.01982266,\n",
       "         -0.26064625,   0.49853016,   1.25770656,   2.01688297,\n",
       "          2.77605938,   3.53523578,   4.29441219,   5.0535886 ,\n",
       "          5.812765  ,   6.57194141,   7.33111781,   8.09029422,\n",
       "          8.84947063,   9.60864703,  10.36782344,  11.12699985,\n",
       "         11.88617625,  12.64535266,  13.40452907,  14.16370547,\n",
       "         14.92288188,  15.68205829,  16.44123469,  17.2004111 ,\n",
       "         17.95958751,  18.71876391,  19.47794032,  20.23711672,\n",
       "         20.99629313,  21.75546954,  22.51464594,  23.27382235,\n",
       "         24.03299876,  24.79217516,  25.55135157,  26.31052798,\n",
       "         27.06970438,  27.82888079,  28.5880572 ,  29.3472336 ,\n",
       "         30.10641001,  30.86558642,  31.62476282,  32.38393923,\n",
       "         33.14311563,  33.90229204,  34.66146845,  35.42064485,  36.17982126]),\n",
       " <a list of 100 Patch objects>)"
      ]
     },
     "execution_count": 12,
     "metadata": {},
     "output_type": "execute_result"
    }
   ],
   "source": [
    "plt.hist(r, bins = 100)"
   ]
  },
  {
   "cell_type": "code",
   "execution_count": 13,
   "metadata": {},
   "outputs": [
    {
     "data": {
      "image/png": "[encoded data removed]",
      "text/plain": [
       "<matplotlib.figure.Figure at 0x10b74a550>"
      ]
     },
     "metadata": {},
     "output_type": "display_data"
    }
   ],
   "source": [
    "plt.show()"
   ]
  },
  {
   "cell_type": "code",
   "execution_count": 14,
   "metadata": {
    "collapsed": true
   },
   "outputs": [],
   "source": [
    "# Sampling from a sphereical gaussian"
   ]
  },
  {
   "cell_type": "code",
   "execution_count": 15,
   "metadata": {
    "collapsed": true
   },
   "outputs": [],
   "source": [
    "r = np.random.randn(10000, 2)"
   ]
  },
  {
   "cell_type": "code",
   "execution_count": 22,
   "metadata": {},
   "outputs": [
    {
     "data": {
      "text/plain": [
       "<matplotlib.collections.PathCollection at 0x10beb9630>"
      ]
     },
     "execution_count": 22,
     "metadata": {},
     "output_type": "execute_result"
    }
   ],
   "source": [
    "plt.scatter(r[:,0], r[:,1])"
   ]
  },
  {
   "cell_type": "code",
   "execution_count": 23,
   "metadata": {},
   "outputs": [
    {
     "data": {
      "image/png": "[encoded data removed]",
      "text/plain": [
       "<matplotlib.figure.Figure at 0x10bcc47f0>"
      ]
     },
     "metadata": {},
     "output_type": "display_data"
    }
   ],
   "source": [
    "plt.show()"
   ]
  },
  {
   "cell_type": "code",
   "execution_count": 24,
   "metadata": {
    "collapsed": true
   },
   "outputs": [],
   "source": [
    "r[:,1] = 5 * r[:,1] + 2"
   ]
  },
  {
   "cell_type": "code",
   "execution_count": 25,
   "metadata": {},
   "outputs": [
    {
     "data": {
      "text/plain": [
       "<matplotlib.collections.PathCollection at 0x10bf92978>"
      ]
     },
     "execution_count": 25,
     "metadata": {},
     "output_type": "execute_result"
    }
   ],
   "source": [
    "plt.scatter(r[:,0], r[:,1])"
   ]
  },
  {
   "cell_type": "code",
   "execution_count": 26,
   "metadata": {},
   "outputs": [
    {
     "data": {
      "image/png": "[encoded data removed]",
      "text/plain": [
       "<matplotlib.figure.Figure at 0x10bebe0f0>"
      ]
     },
     "metadata": {},
     "output_type": "display_data"
    }
   ],
   "source": [
    "plt.show()"
   ]
  },
  {
   "cell_type": "code",
   "execution_count": 27,
   "metadata": {},
   "outputs": [
    {
     "data": {
      "text/plain": [
       "<matplotlib.collections.PathCollection at 0x10bf07ba8>"
      ]
     },
     "execution_count": 27,
     "metadata": {},
     "output_type": "execute_result"
    }
   ],
   "source": [
    "plt.scatter(r[:,0], r[:,1])"
   ]
  },
  {
   "cell_type": "code",
   "execution_count": 28,
   "metadata": {},
   "outputs": [
    {
     "data": {
      "text/plain": [
       "(-3.9874046570100141,\n",
       " 4.2380251101137523,\n",
       " -17.289566787478691,\n",
       " 23.232933514666033)"
      ]
     },
     "execution_count": 28,
     "metadata": {},
     "output_type": "execute_result"
    }
   ],
   "source": [
    "plt.axis('equal')"
   ]
  },
  {
   "cell_type": "code",
   "execution_count": 29,
   "metadata": {},
   "outputs": [
    {
     "data": {
      "image/png": "[encoded data removed]",
      "text/plain": [
       "<matplotlib.figure.Figure at 0x10c004cc0>"
      ]
     },
     "metadata": {},
     "output_type": "display_data"
    }
   ],
   "source": [
    "plt.show()"
   ]
  },
  {
   "cell_type": "code",
   "execution_count": 30,
   "metadata": {
    "collapsed": true
   },
   "outputs": [],
   "source": [
    "# Sample from a general multivariate dimension"
   ]
  },
  {
   "cell_type": "code",
   "execution_count": 31,
   "metadata": {
    "collapsed": true
   },
   "outputs": [],
   "source": [
    "# Coveriant matrix"
   ]
  },
  {
   "cell_type": "code",
   "execution_count": 32,
   "metadata": {
    "collapsed": true
   },
   "outputs": [],
   "source": [
    "cov = np.array([[1,0.8], [0.8, 3]])"
   ]
  },
  {
   "cell_type": "code",
   "execution_count": 34,
   "metadata": {},
   "outputs": [],
   "source": [
    "from scipy.stats import multivariate_normal as mvn"
   ]
  },
  {
   "cell_type": "markdown",
   "metadata": {},
   "source": [
    "mu = np.array([0, 2])"
   ]
  },
  {
   "cell_type": "code",
   "execution_count": 37,
   "metadata": {},
   "outputs": [],
   "source": [
    "r = mvn.rvs(mean = mu, cov = cov, size = 1000)"
   ]
  },
  {
   "cell_type": "code",
   "execution_count": 36,
   "metadata": {
    "collapsed": true
   },
   "outputs": [],
   "source": [
    "mu = np.array([0,2])"
   ]
  },
  {
   "cell_type": "code",
   "execution_count": 38,
   "metadata": {},
   "outputs": [
    {
     "data": {
      "text/plain": [
       "<matplotlib.collections.PathCollection at 0x10dfc5240>"
      ]
     },
     "execution_count": 38,
     "metadata": {},
     "output_type": "execute_result"
    }
   ],
   "source": [
    "plt.scatter(r[:,0], r[:,1])"
   ]
  },
  {
   "cell_type": "code",
   "execution_count": 39,
   "metadata": {},
   "outputs": [
    {
     "data": {
      "text/plain": [
       "(-3.7615994595411402,\n",
       " 4.0711355091881485,\n",
       " -3.2596763658764853,\n",
       " 8.3700446817820744)"
      ]
     },
     "execution_count": 39,
     "metadata": {},
     "output_type": "execute_result"
    }
   ],
   "source": [
    "plt.axis('equal')"
   ]
  },
  {
   "cell_type": "code",
   "execution_count": 40,
   "metadata": {},
   "outputs": [
    {
     "data": {
      "image/png": "[encoded data removed]",
      "text/plain": [
       "<matplotlib.figure.Figure at 0x10df5cb38>"
      ]
     },
     "metadata": {},
     "output_type": "display_data"
    }
   ],
   "source": [
    "plt.show()"
   ]
  },
  {
   "cell_type": "code",
   "execution_count": 41,
   "metadata": {
    "collapsed": true
   },
   "outputs": [],
   "source": [
    "r = np.random.multivariate_normal(mean = mu, cov= cov, size = 1000)"
   ]
  },
  {
   "cell_type": "code",
   "execution_count": 42,
   "metadata": {
    "collapsed": true
   },
   "outputs": [],
   "source": [
    "mu = np.array([0,2])"
   ]
  },
  {
   "cell_type": "code",
   "execution_count": 43,
   "metadata": {},
   "outputs": [
    {
     "data": {
      "text/plain": [
       "(-0.055000000000000007,\n",
       " 0.055000000000000007,\n",
       " -0.055000000000000007,\n",
       " 0.055000000000000007)"
      ]
     },
     "execution_count": 43,
     "metadata": {},
     "output_type": "execute_result"
    }
   ],
   "source": [
    "plt.axis('equal')"
   ]
  },
  {
   "cell_type": "code",
   "execution_count": 44,
   "metadata": {},
   "outputs": [
    {
     "data": {
      "image/png": "[encoded data removed]",
      "text/plain": [
       "<matplotlib.figure.Figure at 0x10dfe6be0>"
      ]
     },
     "metadata": {},
     "output_type": "display_data"
    }
   ],
   "source": [
    "plt.show()"
   ]
  },
  {
   "cell_type": "code",
   "execution_count": null,
   "metadata": {
    "collapsed": true
   },
   "outputs": [],
   "source": []
  }
 ],
 "metadata": {
  "kernelspec": {
   "display_name": "Python [conda root]",
   "language": "python",
   "name": "conda-root-py"
  },
  "language_info": {
   "codemirror_mode": {
    "name": "ipython",
    "version": 3
   },
   "file_extension": ".py",
   "mimetype": "text/x-python",
   "name": "python",
   "nbconvert_exporter": "python",
   "pygments_lexer": "ipython3",
   "version": "3.5.3"
  }
 },
 "nbformat": 4,
 "nbformat_minor": 2
}
